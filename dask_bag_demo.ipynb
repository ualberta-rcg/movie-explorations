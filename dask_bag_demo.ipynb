{
 "cells": [
  {
   "cell_type": "code",
   "execution_count": null,
   "id": "b45355f1",
   "metadata": {},
   "outputs": [],
   "source": [
    "from dask_bag.movie_reader import TheatersReader, MoviesReader, ShowingsReader\n",
    "\n",
    "theaters_reader = TheatersReader('data/20191206/*')\n",
    "\n",
    "theaters_reader.take(1)"
   ]
  },
  {
   "cell_type": "code",
   "execution_count": null,
   "id": "6d7f7061",
   "metadata": {},
   "outputs": [],
   "source": [
    "theaters_reader.count"
   ]
  },
  {
   "cell_type": "code",
   "execution_count": null,
   "id": "9aafcafe",
   "metadata": {},
   "outputs": [],
   "source": [
    "def flatten_theaters_for_location(x):\n",
    "    return {\n",
    "        'lat': float(x['theater_lat']),\n",
    "        'long': float(x['theater_lon']),\n",
    "        'country': x['country'],\n",
    "        'hover': \"{} (id: {}): {}\".format(x['theater_name'],\n",
    "                                      x['theater_id'],\n",
    "                                      x['source_xml']) \n",
    "    }\n",
    "\n",
    "out = theaters_reader.bag.map(flatten_theaters_for_location).compute()\n",
    "\n",
    "out[0]"
   ]
  },
  {
   "cell_type": "code",
   "execution_count": null,
   "id": "bb151042",
   "metadata": {},
   "outputs": [],
   "source": [
    "import plotly.express as px\n",
    "import pandas as pd\n",
    "\n",
    "df = pd.DataFrame(out)\n",
    "fig = px.scatter_geo(df, lat='lat', lon='long', color='country',\n",
    "                     hover_name='hover')\n",
    "fig.show()"
   ]
  },
  {
   "cell_type": "code",
   "execution_count": null,
   "id": "68699d01",
   "metadata": {},
   "outputs": [],
   "source": []
  }
 ],
 "metadata": {
  "kernelspec": {
   "display_name": "Python 3 (ipykernel)",
   "language": "python",
   "name": "python3"
  },
  "language_info": {
   "codemirror_mode": {
    "name": "ipython",
    "version": 3
   },
   "file_extension": ".py",
   "mimetype": "text/x-python",
   "name": "python",
   "nbconvert_exporter": "python",
   "pygments_lexer": "ipython3",
   "version": "3.8.10"
  }
 },
 "nbformat": 4,
 "nbformat_minor": 5
}
