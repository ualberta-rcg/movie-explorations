{
 "cells": [
  {
   "cell_type": "code",
   "execution_count": null,
   "id": "b45355f1",
   "metadata": {},
   "outputs": [],
   "source": [
    "import os\n",
    "import sys\n",
    "\n",
    "sys.path.append('..')\n",
    "\n",
    "from movies_dask_bag.movie_reader import TheatersReader, MoviesReader, ShowingsReader\n",
    "\n",
    "work_dir = os.environ.get('SLURM_TMPDIR', '.')\n",
    "data_dir = '{}/json'.format(work_dir)\n",
    "file_pattern = '{}/20191206/*'.format(data_dir)\n",
    "\n",
    "theaters_reader = TheatersReader(file_pattern)\n",
    "\n",
    "theaters_reader.take(1)"
   ]
  },
  {
   "cell_type": "code",
   "execution_count": null,
   "id": "50ce6aaf",
   "metadata": {},
   "outputs": [],
   "source": [
    "theaters_reader.client"
   ]
  },
  {
   "cell_type": "code",
   "execution_count": null,
   "id": "6d7f7061",
   "metadata": {},
   "outputs": [],
   "source": [
    "%%time\n",
    "\n",
    "theaters_reader.count"
   ]
  },
  {
   "cell_type": "code",
   "execution_count": null,
   "id": "9aafcafe",
   "metadata": {},
   "outputs": [],
   "source": [
    "def flatten_theaters_for_location(x):\n",
    "    return {\n",
    "        'lat': float(x['theater_lat']),\n",
    "        'lon': float(x['theater_lon']),\n",
    "        'country': x['country'],\n",
    "        'hover': \"{} (id: {}): {}\".format(x['theater_name'],\n",
    "                                      x['theater_id'],\n",
    "                                      x['source_xml']) \n",
    "    }\n",
    "\n",
    "location = theaters_reader.bag.map(flatten_theaters_for_location)\n",
    "out = location.compute()\n",
    "\n",
    "out[0]"
   ]
  },
  {
   "cell_type": "code",
   "execution_count": null,
   "id": "bb151042",
   "metadata": {},
   "outputs": [],
   "source": [
    "import plotly.express as px\n",
    "import pandas as pd\n",
    "\n",
    "df = pd.DataFrame(out)\n",
    "fig = px.scatter_geo(df, lat='lat', lon='lon', color='country',\n",
    "                     hover_name='hover')\n",
    "fig.show()"
   ]
  },
  {
   "cell_type": "code",
   "execution_count": null,
   "id": "e139fb34",
   "metadata": {},
   "outputs": [],
   "source": [
    "import json\n",
    "from shapely.geometry import shape, Point\n",
    "import os, urllib.request\n",
    "import pandas as pd\n",
    "\n",
    "country_code = 'swe'\n",
    "country = location.filter(lambda x:x['country'] == 'swe')\n",
    "country_theaters = country.compute()\n",
    "country_df = pd.DataFrame(country_theaters)"
   ]
  },
  {
   "cell_type": "code",
   "execution_count": null,
   "id": "bf6cb01d",
   "metadata": {},
   "outputs": [],
   "source": [
    "border = '{}.geojson'.format(country_code.upper())\n",
    "url = 'https://github.com/AshKyd/geojson-regions/raw/master/countries/10m/{}'.format(border)\n",
    "output = 'data/{}'.format(border)\n",
    "\n",
    "urllib.request.urlretrieve(url, output)\n",
    "\n",
    "import json\n",
    "from shapely.geometry import shape, Point\n",
    "\n",
    "with open(output) as f:\n",
    "    js = json.load(f)\n",
    "\n",
    "polygon = shape(js['geometry'])"
   ]
  },
  {
   "cell_type": "code",
   "execution_count": null,
   "id": "e5c9fb8d",
   "metadata": {},
   "outputs": [],
   "source": [
    "country_df['in_boundary'] = country_df.apply(lambda x: polygon.distance(Point(x['lon'], x['lat'])) < 0.06, axis=1)\n",
    "\n",
    "fig = px.scatter_geo(country_df, lat='lat', lon='lon', color='in_boundary',\n",
    "                     hover_name='hover')\n",
    "fig.show()"
   ]
  },
  {
   "cell_type": "code",
   "execution_count": null,
   "id": "312d2f60",
   "metadata": {},
   "outputs": [],
   "source": [
    "country_df['in_boundary'].value_counts()"
   ]
  },
  {
   "cell_type": "code",
   "execution_count": null,
   "id": "63a9b4d6",
   "metadata": {},
   "outputs": [],
   "source": [
    "theaters_reader.client.close()"
   ]
  }
 ],
 "metadata": {
  "kernelspec": {
   "display_name": "Python 3 (ipykernel)",
   "language": "python",
   "name": "python3"
  },
  "language_info": {
   "codemirror_mode": {
    "name": "ipython",
    "version": 3
   },
   "file_extension": ".py",
   "mimetype": "text/x-python",
   "name": "python",
   "nbconvert_exporter": "python",
   "pygments_lexer": "ipython3",
   "version": "3.8.10"
  }
 },
 "nbformat": 4,
 "nbformat_minor": 5
}
