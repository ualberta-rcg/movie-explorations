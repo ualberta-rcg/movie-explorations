{
 "cells": [
  {
   "cell_type": "markdown",
   "id": "4e1d257a",
   "metadata": {},
   "source": [
    "## Some experiments with how well theaters are doing over time\n",
    "\n",
    "We'll count how many theatres in each country had any showings for each date sampled.\n",
    "\n",
    "This demo works with the entire showings dataset. Each operation takes about 20 seconds with 48 CPUs."
   ]
  },
  {
   "cell_type": "code",
   "execution_count": null,
   "id": "1975ba8c",
   "metadata": {},
   "outputs": [],
   "source": [
    "%%time\n",
    "\n",
    "import os\n",
    "import sys\n",
    "\n",
    "sys.path.append('..')\n",
    "\n",
    "from movies_dask_bag.movie_reader import TheatersReader, MoviesReader, ShowingsReader\n",
    "\n",
    "work_dir = os.environ.get('SLURM_TMPDIR', '.')\n",
    "data_dir = '{}/json'.format(work_dir)\n",
    "file_pattern = '{}/*/*'.format(data_dir)\n",
    "\n",
    "showings_reader = ShowingsReader(file_pattern)\n",
    "theaters_reader = TheatersReader(file_pattern)"
   ]
  },
  {
   "cell_type": "markdown",
   "id": "d4b20835",
   "metadata": {},
   "source": [
    "Count the showing records gives an indication of how long operations will take."
   ]
  },
  {
   "cell_type": "code",
   "execution_count": null,
   "id": "0b7eeb57",
   "metadata": {},
   "outputs": [],
   "source": [
    "%%time\n",
    "\n",
    "showings_reader.count"
   ]
  },
  {
   "cell_type": "markdown",
   "id": "30a57694",
   "metadata": {},
   "source": [
    "We'll hash the data by theatre, country, and date stamp and count the frequencies for each combination."
   ]
  },
  {
   "cell_type": "code",
   "execution_count": null,
   "id": "7eb841c5",
   "metadata": {},
   "outputs": [],
   "source": [
    "%%time\n",
    "\n",
    "# Hashing scheme for the bins: \"theater_id||country||date_stamp\"\n",
    "\n",
    "def theater_hash(movie):\n",
    "    return \"{}||{}||{}\".format(movie['theater_id'], movie['country'], movie['date_stamp'])\n",
    "\n",
    "frequencies = showings_reader.bag.map(theater_hash).frequencies().compute()\n",
    "frequencies[:10]"
   ]
  },
  {
   "cell_type": "code",
   "execution_count": null,
   "id": "c7563b1a",
   "metadata": {},
   "outputs": [],
   "source": [
    "len(frequencies)"
   ]
  },
  {
   "cell_type": "markdown",
   "id": "399b10a9",
   "metadata": {},
   "source": [
    "Now we can create a nested structure that we'll use to create a dataframe to count how many theatres had showings for each date sampled. "
   ]
  },
  {
   "cell_type": "code",
   "execution_count": null,
   "id": "c5480391",
   "metadata": {},
   "outputs": [],
   "source": [
    "country_date_stamps_counts = {}\n",
    "countries = set()\n",
    "date_stamps = set()\n",
    "\n",
    "for frequency in frequencies:\n",
    "    (theater_id, country, date_stamp) = frequency[0].split(\"||\")\n",
    "    countries.add(country)\n",
    "    date_stamps.add(date_stamp)\n",
    "\n",
    "    country_counts = country_date_stamps_counts.get(country, {})\n",
    "    count = country_counts.get(date_stamp, 0) + 1\n",
    "    country_counts[date_stamp] = count\n",
    "    country_date_stamps_counts[country] = country_counts\n",
    "\n",
    "countries = sorted(list(countries))\n",
    "date_stamps = sorted(list(date_stamps))"
   ]
  },
  {
   "cell_type": "code",
   "execution_count": null,
   "id": "96f66b4b",
   "metadata": {},
   "outputs": [],
   "source": [
    "country_date_stamps_counts"
   ]
  },
  {
   "cell_type": "markdown",
   "id": "e85bc331",
   "metadata": {},
   "source": [
    "Create the dataframe ..."
   ]
  },
  {
   "cell_type": "code",
   "execution_count": null,
   "id": "671f265b",
   "metadata": {},
   "outputs": [],
   "source": [
    "import pandas as pd\n",
    "import numpy as np\n",
    "\n",
    "columns = date_stamps\n",
    "df = pd.DataFrame(columns=columns, dtype=np.int64)\n",
    "\n",
    "for country in country_date_stamps_counts:\n",
    "    country_counts = country_date_stamps_counts[country]\n",
    "    for date_stamp in country_counts:\n",
    "        count = country_counts[date_stamp]\n",
    "        df.loc[country, date_stamp] = count\n",
    "df.fillna(0, inplace=True)\n",
    "df"
   ]
  },
  {
   "cell_type": "markdown",
   "id": "1695f8d5",
   "metadata": {},
   "source": [
    "Do a plot of \"How many theatres had showings\" in each country for each week."
   ]
  },
  {
   "cell_type": "code",
   "execution_count": null,
   "id": "e6958c1f",
   "metadata": {},
   "outputs": [],
   "source": [
    "import datetime\n",
    "import plotly.graph_objects as go\n",
    "\n",
    "# Convert columns from strings to proper datetimes\n",
    "plot_columns = [datetime.datetime.strptime(c, '%Y%m%d') for c in columns]\n",
    "\n",
    "# Default double-click speed is a bit fast ...\n",
    "config = {'doubleClickDelay': 1000}\n",
    "\n",
    "fig = go.Figure()\n",
    "for country in countries:\n",
    "    fig.add_scatter(x=plot_columns,\n",
    "                    y=df.loc[country],\n",
    "                    mode = 'lines',\n",
    "                    name=country)\n",
    "\n",
    "fig.show(config=config)"
   ]
  },
  {
   "cell_type": "markdown",
   "id": "f7a56a99",
   "metadata": {},
   "source": [
    "It might be interesting to normalize the data to compare it with a date stamp pre-pandemic (2019-12-13 chosen because it has data for all of the countries)."
   ]
  },
  {
   "cell_type": "code",
   "execution_count": null,
   "id": "393081d5",
   "metadata": {},
   "outputs": [],
   "source": [
    "df_ratio = df.apply(lambda x:x / df['20191213'])\n",
    "\n",
    "fig = go.Figure()\n",
    "for country in countries:\n",
    "    fig.add_scatter(x=columns,\n",
    "                    y=df_ratio.loc[country],\n",
    "                    mode = 'lines',\n",
    "                    name=country)\n",
    "\n",
    "fig.show(config=config)"
   ]
  },
  {
   "cell_type": "markdown",
   "id": "be5743e3",
   "metadata": {},
   "source": [
    "Shutdown things ..."
   ]
  },
  {
   "cell_type": "code",
   "execution_count": null,
   "id": "af815f23",
   "metadata": {},
   "outputs": [],
   "source": [
    "showings_reader.shutdown()\n",
    "theaters_reader.shutdown()"
   ]
  }
 ],
 "metadata": {
  "kernelspec": {
   "display_name": "Python 3 (ipykernel)",
   "language": "python",
   "name": "python3"
  },
  "language_info": {
   "codemirror_mode": {
    "name": "ipython",
    "version": 3
   },
   "file_extension": ".py",
   "mimetype": "text/x-python",
   "name": "python",
   "nbconvert_exporter": "python",
   "pygments_lexer": "ipython3",
   "version": "3.8.10"
  }
 },
 "nbformat": 4,
 "nbformat_minor": 5
}
