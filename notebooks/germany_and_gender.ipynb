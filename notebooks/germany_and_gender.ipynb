{
 "cells": [
  {
   "cell_type": "markdown",
   "id": "75e03128",
   "metadata": {},
   "source": [
    "# Looking at gender in German movies\n",
    "\n",
    "Here we can use file globing to restrict the data size. This demo performs work well with a single CPU (each cell executes in a a few seconds).\n",
    "\n",
    "We will look at th"
   ]
  },
  {
   "cell_type": "code",
   "execution_count": null,
   "id": "fbcf0d38",
   "metadata": {},
   "outputs": [],
   "source": [
    "%%time\n",
    "\n",
    "import os\n",
    "import sys\n",
    "\n",
    "sys.path.append('..')\n",
    "\n",
    "from movies_dask_bag.movie_reader import TheatersReader, MoviesReader, ShowingsReader\n",
    "\n",
    "work_dir = os.environ.get('SLURM_TMPDIR', '.')\n",
    "data_dir = '{}/json'.format(work_dir)\n",
    "\n",
    "# Notice the glob pattern restricts the data to the Germany data\n",
    "file_pattern = '{}/*/deu'.format(data_dir)\n",
    "\n",
    "showings_reader = ShowingsReader(file_pattern)\n",
    "movies_reader = MoviesReader(file_pattern)"
   ]
  },
  {
   "cell_type": "code",
   "execution_count": null,
   "id": "7c2ce481",
   "metadata": {},
   "outputs": [],
   "source": [
    "showings_reader.take(1)"
   ]
  },
  {
   "cell_type": "code",
   "execution_count": null,
   "id": "0c7d7f6c",
   "metadata": {},
   "outputs": [],
   "source": [
    "movies_reader.take(1)"
   ]
  },
  {
   "cell_type": "markdown",
   "id": "7bf23df0",
   "metadata": {},
   "source": [
    "It's important to notice that **not all films have a director**, so we'll need to take care here. An example of such a film:"
   ]
  },
  {
   "cell_type": "code",
   "execution_count": null,
   "id": "feab42ac",
   "metadata": {},
   "outputs": [],
   "source": [
    "movies_reader.bag.filter(lambda x:not x.get('director')).take(1)"
   ]
  },
  {
   "cell_type": "markdown",
   "id": "31d290fb",
   "metadata": {},
   "source": [
    "We can create a list of all of the first names of the directors. Also important to note: some films have multiple directors."
   ]
  },
  {
   "cell_type": "code",
   "execution_count": null,
   "id": "aab2cc0c",
   "metadata": {},
   "outputs": [],
   "source": [
    "def movie_director_first_names(movie):\n",
    "    first_names = []\n",
    "    directors = movie.get('director',[])\n",
    "    if type(directors) != list:\n",
    "        directors = [directors]\n",
    "    for director in directors:\n",
    "        names = director.split()\n",
    "        if len(names) > 1:\n",
    "            first_names.append(names[0])\n",
    "        else:\n",
    "            first_names.append(director)\n",
    "    return first_names\n",
    "\n",
    "director_first_names = movies_reader.bag.map(movie_director_first_names).\\\n",
    "                        filter(lambda x:len(x)>0).compute()\n",
    "director_first_names"
   ]
  },
  {
   "cell_type": "markdown",
   "id": "8a586545",
   "metadata": {},
   "source": [
    "# A niave approach to identifying the gender of the director\n",
    "\n",
    "We'll try to identify the gender of the director by keeping a list of common female first names (this list is intentionally kept small due to time constraints)"
   ]
  },
  {
   "cell_type": "code",
   "execution_count": null,
   "id": "72fb8d18",
   "metadata": {},
   "outputs": [],
   "source": [
    "FEMALE_FIRST_NAMES = ['Jill', 'Caroline', 'Annika', 'Marie', 'Sabine']\n",
    "\n",
    "def has_female_director(movie):\n",
    "    first_names = movie_director_first_names(movie)\n",
    "    for first_name in first_names:\n",
    "        if first_name in FEMALE_FIRST_NAMES:\n",
    "            return True\n",
    "    return False\n",
    "\n",
    "count = movies_reader.bag.filter(has_female_director).distinct('movie_id').count().compute()\n",
    "print(\"{} Movies with a female director\".format(count))\n",
    "\n",
    "def movie_summary(movie):\n",
    "    return [\n",
    "        movie['movie_id'],\n",
    "        movie['title'],\n",
    "        movie['director']\n",
    "    ]\n",
    "\n",
    "movies_reader.bag.filter(has_female_director).distinct('movie_id').map(movie_summary).compute()"
   ]
  },
  {
   "cell_type": "markdown",
   "id": "9bbe7e86",
   "metadata": {},
   "source": [
    "Pluck out those movie IDs to look at the screening data ..."
   ]
  },
  {
   "cell_type": "code",
   "execution_count": null,
   "id": "efe935dd",
   "metadata": {},
   "outputs": [],
   "source": [
    "movie_ids = \\\n",
    "  movies_reader.bag.filter(has_female_director).distinct('movie_id').map(lambda x:x['movie_id']).compute()\n",
    "movie_ids"
   ]
  },
  {
   "cell_type": "markdown",
   "id": "042d5dfb",
   "metadata": {},
   "source": [
    "Create bins for movie screenings based on the `movie_id` and `date_stamp`."
   ]
  },
  {
   "cell_type": "code",
   "execution_count": null,
   "id": "073f2558",
   "metadata": {},
   "outputs": [],
   "source": [
    "%%time\n",
    "\n",
    "# Hashing scheme for the bins: \"movie_id||date_stamp\"\n",
    "\n",
    "def movie_hash(movie):\n",
    "    return \"{}||{}\".format(movie['movie_id'], movie['date_stamp'])\n",
    "                                     \n",
    "frequencies = showings_reader.bag.filter(lambda x: x['movie_id'] in movie_ids).map(movie_hash).frequencies().compute()\n",
    "frequencies"
   ]
  },
  {
   "cell_type": "markdown",
   "id": "4f3878c5",
   "metadata": {},
   "source": [
    " Break a part those hashes to get the date stamps for our data frame columns ..."
   ]
  },
  {
   "cell_type": "code",
   "execution_count": null,
   "id": "7ab88e08",
   "metadata": {},
   "outputs": [],
   "source": [
    "date_stamps = list(set([frequency[0].split('||')[1] for frequency in frequencies]))\n",
    "columns = sorted(date_stamps)\n",
    "columns"
   ]
  },
  {
   "cell_type": "markdown",
   "id": "1a04fc63",
   "metadata": {},
   "source": [
    "Now loop through the data and populate the data frame..."
   ]
  },
  {
   "cell_type": "code",
   "execution_count": null,
   "id": "514d0a6a",
   "metadata": {},
   "outputs": [],
   "source": [
    "import pandas as pd\n",
    "import numpy as np\n",
    "\n",
    "df = pd.DataFrame(columns=columns, dtype=np.int64)\n",
    "\n",
    "for row in frequencies:\n",
    "    (country, date_stamp) = row[0].split('||')\n",
    "    df.loc[country, date_stamp] = row[1]\n",
    "df"
   ]
  },
  {
   "cell_type": "markdown",
   "id": "8948f14e",
   "metadata": {},
   "source": [
    "Fill the missing data with zeros ..."
   ]
  },
  {
   "cell_type": "code",
   "execution_count": null,
   "id": "425793f7",
   "metadata": {},
   "outputs": [],
   "source": [
    "df.fillna(0, inplace=True)\n",
    "df"
   ]
  },
  {
   "cell_type": "markdown",
   "id": "6f1167af",
   "metadata": {},
   "source": [
    "Create a lookup table to get some information about a movie (in this case, movie ID and title) using a movie ID. (This will help identify the movie when plotting.)"
   ]
  },
  {
   "cell_type": "code",
   "execution_count": null,
   "id": "c6e43da0",
   "metadata": {},
   "outputs": [],
   "source": [
    "def label_summary(movie):\n",
    "    return [movie['movie_id'], \"{}--{}\".format(movie['movie_id'], movie['title'])]\n",
    "\n",
    "out = movies_reader.bag.filter(has_female_director).distinct('movie_id').map(label_summary).compute()\n",
    "out = [item for sublist in out for item in sublist]\n",
    "labels=dict(zip(out[::2],out[1::2]))\n",
    "labels"
   ]
  },
  {
   "cell_type": "markdown",
   "id": "54bf3682",
   "metadata": {},
   "source": [
    "Plot a graph ..."
   ]
  },
  {
   "cell_type": "code",
   "execution_count": null,
   "id": "84c739f8",
   "metadata": {},
   "outputs": [],
   "source": [
    "import datetime\n",
    "import plotly.graph_objects as go\n",
    "\n",
    "# Convert the x data in the graph to proper date times\n",
    "plot_columns = [datetime.datetime.strptime(c, '%Y%m%d') for c in columns]\n",
    "\n",
    "config = {'doubleClickDelay': 1000}\n",
    "\n",
    "fig = go.Figure()\n",
    "for movie_id in movie_ids:\n",
    "    fig.add_scatter(x=plot_columns,\n",
    "                    y=df.loc[movie_id],\n",
    "                    mode = 'lines',\n",
    "                    name=labels[movie_id])\n",
    "\n",
    "fig.show(config=config)"
   ]
  },
  {
   "cell_type": "code",
   "execution_count": null,
   "id": "c30b2d9e",
   "metadata": {},
   "outputs": [],
   "source": [
    "showings_reader.shutdown()\n",
    "movies_reader.shutdown()"
   ]
  }
 ],
 "metadata": {
  "kernelspec": {
   "display_name": "Python 3 (ipykernel)",
   "language": "python",
   "name": "python3"
  },
  "language_info": {
   "codemirror_mode": {
    "name": "ipython",
    "version": 3
   },
   "file_extension": ".py",
   "mimetype": "text/x-python",
   "name": "python",
   "nbconvert_exporter": "python",
   "pygments_lexer": "ipython3",
   "version": "3.8.10"
  }
 },
 "nbformat": 4,
 "nbformat_minor": 5
}
