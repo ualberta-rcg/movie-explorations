{
 "cells": [
  {
   "cell_type": "code",
   "execution_count": null,
   "id": "12165788",
   "metadata": {},
   "outputs": [],
   "source": [
    "import os\n",
    "import sys\n",
    "\n",
    "sys.path.append('..')\n",
    "\n",
    "from movies_dask_bag.movie_reader import TheatersReader, MoviesReader, ShowingsReader\n",
    "\n",
    "work_dir = os.environ.get('SLURM_TMPDIR', '.')\n",
    "data_dir = '{}/json'.format(work_dir)\n",
    "# file_pattern = '{}/20191206/*'.format(data_dir)\n",
    "file_pattern = '{}/*/*'.format(data_dir)\n",
    "\n",
    "movies_reader = MoviesReader(file_pattern)\n",
    "\n",
    "movies_reader.take(1)"
   ]
  },
  {
   "cell_type": "code",
   "execution_count": null,
   "id": "4bd63c62",
   "metadata": {},
   "outputs": [],
   "source": [
    "movies_reader.client"
   ]
  },
  {
   "cell_type": "markdown",
   "id": "1a148f53",
   "metadata": {},
   "source": [
    "### Count number of movies vs number of unique movies"
   ]
  },
  {
   "cell_type": "code",
   "execution_count": null,
   "id": "b480300c",
   "metadata": {},
   "outputs": [],
   "source": [
    "%%time\n",
    "\n",
    "movies_reader.count"
   ]
  },
  {
   "cell_type": "code",
   "execution_count": null,
   "id": "1932d92f",
   "metadata": {},
   "outputs": [],
   "source": [
    "%%time\n",
    "len(set(movies_reader.bag.map(lambda x:x['movie_id']).compute()))"
   ]
  },
  {
   "cell_type": "code",
   "execution_count": null,
   "id": "237d1097",
   "metadata": {},
   "outputs": [],
   "source": [
    "%%time\n",
    "\n",
    "uniq_movies_bag = movies_reader.bag.distinct('movie_id')"
   ]
  },
  {
   "cell_type": "code",
   "execution_count": null,
   "id": "e11a3756",
   "metadata": {},
   "outputs": [],
   "source": [
    "%%time\n",
    "\n",
    "uniq_movies_bag.count().compute()"
   ]
  },
  {
   "cell_type": "code",
   "execution_count": null,
   "id": "bc4703ba",
   "metadata": {},
   "outputs": [],
   "source": [
    "movies_reader.client.close()"
   ]
  }
 ],
 "metadata": {
  "kernelspec": {
   "display_name": "Python 3 (ipykernel)",
   "language": "python",
   "name": "python3"
  },
  "language_info": {
   "codemirror_mode": {
    "name": "ipython",
    "version": 3
   },
   "file_extension": ".py",
   "mimetype": "text/x-python",
   "name": "python",
   "nbconvert_exporter": "python",
   "pygments_lexer": "ipython3",
   "version": "3.8.10"
  }
 },
 "nbformat": 4,
 "nbformat_minor": 5
}
