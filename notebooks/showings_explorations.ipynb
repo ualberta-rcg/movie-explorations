{
 "cells": [
  {
   "cell_type": "markdown",
   "id": "806d19bb",
   "metadata": {},
   "source": [
    "# Showings demo\n",
    "\n",
    "This demo needs quite a few CPUs to be responsive.\n",
    "\n",
    "Operations typically take:\n",
    "\n",
    "* 6 CPUs: 4 minutes\n",
    "* 48 CPUs: 20 seconds\n",
    "\n",
    "In the demo, we'll plot the evolution of showings over time for each country."
   ]
  },
  {
   "cell_type": "code",
   "execution_count": null,
   "id": "3df99889",
   "metadata": {},
   "outputs": [],
   "source": [
    "%%time\n",
    "\n",
    "import os\n",
    "import sys\n",
    "\n",
    "sys.path.append('..')\n",
    "\n",
    "from movies_dask_bag.movie_reader import TheatersReader, MoviesReader, ShowingsReader\n",
    "\n",
    "work_dir = os.environ.get('SLURM_TMPDIR', '.')\n",
    "data_dir = '{}/json'.format(work_dir)\n",
    "file_pattern = '{}/*/*'.format(data_dir)\n",
    "\n",
    "showings_reader = ShowingsReader(file_pattern)\n",
    "\n",
    "showings_reader.take(1)"
   ]
  },
  {
   "cell_type": "code",
   "execution_count": null,
   "id": "34b9898b",
   "metadata": {},
   "outputs": [],
   "source": [
    "showings_reader.client"
   ]
  },
  {
   "cell_type": "code",
   "execution_count": null,
   "id": "a726bb6d",
   "metadata": {},
   "outputs": [],
   "source": [
    "showings_reader.bag"
   ]
  },
  {
   "cell_type": "code",
   "execution_count": null,
   "id": "addf76bd",
   "metadata": {},
   "outputs": [],
   "source": [
    "%%time\n",
    "\n",
    "showings_reader.count"
   ]
  },
  {
   "cell_type": "markdown",
   "id": "eebfe2b8",
   "metadata": {},
   "source": [
    "We can partition the data into bins for each country and date stamp, and compute the frequencies of the showings."
   ]
  },
  {
   "cell_type": "code",
   "execution_count": null,
   "id": "523cc312",
   "metadata": {},
   "outputs": [],
   "source": [
    "%%time\n",
    "\n",
    "bins = showings_reader.bag.map(lambda x: x['country'] + '--' + x['date_stamp']).frequencies(sort=False).compute()\n",
    "\n",
    "print(\"{} bins\".format(len(bins)))\n",
    "print(\"First 5 bins:\\n{}\", bins[:5])"
   ]
  },
  {
   "cell_type": "markdown",
   "id": "f9323637",
   "metadata": {},
   "source": [
    "It might also be interesting to count all of the showings for each date stamp ..."
   ]
  },
  {
   "cell_type": "code",
   "execution_count": null,
   "id": "7c6afe1d",
   "metadata": {},
   "outputs": [],
   "source": [
    "date_counts = showings_reader.bag.map(lambda x: x['date_stamp']).frequencies(sort=False).compute()\n",
    "date_counts[:20]"
   ]
  },
  {
   "cell_type": "markdown",
   "id": "1ad5ffb9",
   "metadata": {},
   "source": [
    "The date stamps will be the columns for the data frame ..."
   ]
  },
  {
   "cell_type": "code",
   "execution_count": null,
   "id": "e8fd469b",
   "metadata": {},
   "outputs": [],
   "source": [
    "columns = sorted([date_count[0] for date_count in date_counts])\n",
    "columns[:5]"
   ]
  },
  {
   "cell_type": "markdown",
   "id": "0398e978",
   "metadata": {},
   "source": [
    "The countries will represent the rows of the data frame ..."
   ]
  },
  {
   "cell_type": "code",
   "execution_count": null,
   "id": "64d68adf",
   "metadata": {},
   "outputs": [],
   "source": [
    "country_counts = showings_reader.bag.map(lambda x: x['country']).frequencies(sort=False).compute()\n",
    "countries = sorted([country_count[0] for country_count in country_counts])\n",
    "\n",
    "print(\"{} countries total\".format(len(countries)))\n",
    "print(\"First 10 countries:\")\n",
    "countries[:10]"
   ]
  },
  {
   "cell_type": "markdown",
   "id": "d4643f14",
   "metadata": {},
   "source": [
    "Assemble the data frame ..."
   ]
  },
  {
   "cell_type": "code",
   "execution_count": null,
   "id": "4609ea5e",
   "metadata": {},
   "outputs": [],
   "source": [
    "import pandas as pd\n",
    "import numpy as np\n",
    "\n",
    "# df = pd.DataFrame(columns=columns, index=['country'], dtype=np.int64)\n",
    "df = pd.DataFrame(columns=columns, dtype=np.int64)\n",
    "df.index.name = 'country'\n",
    "\n",
    "for row in bins:\n",
    "    (country, date_stamp) = row[0].split('--')\n",
    "    df.loc[country, date_stamp] = row[1]\n",
    "df"
   ]
  },
  {
   "cell_type": "markdown",
   "id": "cdf0a5df",
   "metadata": {},
   "source": [
    "Replace missing data with zeros ..."
   ]
  },
  {
   "cell_type": "code",
   "execution_count": null,
   "id": "938729ce",
   "metadata": {},
   "outputs": [],
   "source": [
    "df.fillna(0, inplace=True)\n",
    "df"
   ]
  },
  {
   "cell_type": "markdown",
   "id": "7eb96b4c",
   "metadata": {},
   "source": [
    "**Note**: at this point it makes sense to dump the data to a CSV file and download to a PC ..."
   ]
  },
  {
   "cell_type": "code",
   "execution_count": null,
   "id": "2b58448e",
   "metadata": {},
   "outputs": [],
   "source": [
    "df.to_csv(\"showings_explorations_out.csv\")"
   ]
  },
  {
   "cell_type": "markdown",
   "id": "0f771d6a",
   "metadata": {},
   "source": [
    "Make the plot ..."
   ]
  },
  {
   "cell_type": "code",
   "execution_count": null,
   "id": "f74abf6e",
   "metadata": {},
   "outputs": [],
   "source": [
    "import datetime\n",
    "import plotly.graph_objects as go\n",
    "\n",
    "# Convert columns from strings to proper datetimes\n",
    "columns = [datetime.datetime.strptime(c, '%Y%m%d') for c in columns]\n",
    "\n",
    "# Default double-click speed is a bit fast ...\n",
    "config = {'doubleClickDelay': 1000}\n",
    "\n",
    "fig = go.Figure()\n",
    "for country in countries:\n",
    "    fig.add_scatter(x=columns,\n",
    "                    y=df.loc[country],\n",
    "                    mode = 'lines',\n",
    "                    name=country)\n",
    "\n",
    "fig.show(config=config)"
   ]
  },
  {
   "cell_type": "markdown",
   "id": "b88fb98a",
   "metadata": {},
   "source": [
    "It might be interesting to normalize the data to compare it with a date stamp pre-pandemic (2019-12-13 chosen because it has data for all of the countries)."
   ]
  },
  {
   "cell_type": "code",
   "execution_count": null,
   "id": "d1b233a9",
   "metadata": {},
   "outputs": [],
   "source": [
    "df_ratio = df.apply(lambda x:x / df['20191213'])\n",
    "\n",
    "fig = go.Figure()\n",
    "for country in countries:\n",
    "    fig.add_scatter(x=columns,\n",
    "                    y=df_ratio.loc[country],\n",
    "                    mode = 'lines',\n",
    "                    name=country)\n",
    "\n",
    "fig.show(config=config)"
   ]
  },
  {
   "cell_type": "markdown",
   "id": "851ac118",
   "metadata": {},
   "source": [
    "Shut down the computational network and clean up ..."
   ]
  },
  {
   "cell_type": "code",
   "execution_count": null,
   "id": "7fdec8f9",
   "metadata": {},
   "outputs": [],
   "source": [
    "showings_reader.shutdown()"
   ]
  }
 ],
 "metadata": {
  "kernelspec": {
   "display_name": "Python 3 (ipykernel)",
   "language": "python",
   "name": "python3"
  },
  "language_info": {
   "codemirror_mode": {
    "name": "ipython",
    "version": 3
   },
   "file_extension": ".py",
   "mimetype": "text/x-python",
   "name": "python",
   "nbconvert_exporter": "python",
   "pygments_lexer": "ipython3",
   "version": "3.8.10"
  }
 },
 "nbformat": 4,
 "nbformat_minor": 5
}
