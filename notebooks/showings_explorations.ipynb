{
 "cells": [
  {
   "cell_type": "code",
   "execution_count": null,
   "id": "3df99889",
   "metadata": {},
   "outputs": [],
   "source": [
    "%%time\n",
    "\n",
    "import os\n",
    "import sys\n",
    "\n",
    "sys.path.append('..')\n",
    "\n",
    "from movies_dask_bag.movie_reader import TheatersReader, MoviesReader, ShowingsReader\n",
    "\n",
    "work_dir = os.environ.get('SLURM_TMPDIR', '.')\n",
    "data_dir = '{}/json'.format(work_dir)\n",
    "file_pattern = '{}/*/*'.format(data_dir)\n",
    "\n",
    "showings_reader = ShowingsReader(file_pattern)\n",
    "\n",
    "showings_reader.take(1)"
   ]
  },
  {
   "cell_type": "code",
   "execution_count": null,
   "id": "34b9898b",
   "metadata": {},
   "outputs": [],
   "source": [
    "showings_reader.client"
   ]
  },
  {
   "cell_type": "code",
   "execution_count": null,
   "id": "a726bb6d",
   "metadata": {},
   "outputs": [],
   "source": [
    "showings_reader.bag"
   ]
  },
  {
   "cell_type": "code",
   "execution_count": null,
   "id": "addf76bd",
   "metadata": {},
   "outputs": [],
   "source": [
    "%%time\n",
    "\n",
    "showings_reader.count"
   ]
  },
  {
   "cell_type": "code",
   "execution_count": null,
   "id": "523cc312",
   "metadata": {},
   "outputs": [],
   "source": [
    "%%time\n",
    "\n",
    "a = showings_reader.bag.map(lambda x: x['country'] + '--' + x['date_stamp']).frequencies(sort=False).compute()"
   ]
  },
  {
   "cell_type": "code",
   "execution_count": null,
   "id": "5cf8ce18",
   "metadata": {},
   "outputs": [],
   "source": [
    "len(a)"
   ]
  },
  {
   "cell_type": "code",
   "execution_count": null,
   "id": "7bffe8d9",
   "metadata": {},
   "outputs": [],
   "source": [
    "a[:5]"
   ]
  },
  {
   "cell_type": "code",
   "execution_count": null,
   "id": "7c6afe1d",
   "metadata": {},
   "outputs": [],
   "source": [
    "date_counts = showings_reader.bag.map(lambda x: x['date_stamp']).frequencies(sort=False).compute()"
   ]
  },
  {
   "cell_type": "code",
   "execution_count": null,
   "id": "e8fd469b",
   "metadata": {},
   "outputs": [],
   "source": [
    "columns = sorted([date_count[0] for date_count in date_counts])\n",
    "columns"
   ]
  },
  {
   "cell_type": "code",
   "execution_count": null,
   "id": "64d68adf",
   "metadata": {},
   "outputs": [],
   "source": [
    "country_counts = showings_reader.bag.map(lambda x: x['country']).frequencies(sort=False).compute()\n",
    "countries = sorted([country_count[0] for country_count in country_counts])\n",
    "countries"
   ]
  },
  {
   "cell_type": "code",
   "execution_count": null,
   "id": "006c46d7",
   "metadata": {},
   "outputs": [],
   "source": [
    "len(countries)"
   ]
  },
  {
   "cell_type": "code",
   "execution_count": null,
   "id": "38b43017",
   "metadata": {},
   "outputs": [],
   "source": [
    "import pandas as pd\n",
    "import numpy as np\n",
    "\n",
    "# df = pd.DataFrame(columns=columns, index=['country'], dtype=np.int64)\n",
    "df = pd.DataFrame(columns=columns, dtype=np.int64)\n",
    "df"
   ]
  },
  {
   "cell_type": "code",
   "execution_count": null,
   "id": "4609ea5e",
   "metadata": {},
   "outputs": [],
   "source": [
    "for row in a:\n",
    "    (country, date_stamp) = row[0].split('--')\n",
    "    df.loc[country, date_stamp] = row[1]\n",
    "df"
   ]
  },
  {
   "cell_type": "code",
   "execution_count": null,
   "id": "af2af286",
   "metadata": {},
   "outputs": [],
   "source": [
    "import datetime\n",
    "\n",
    "columns = [datetime.datetime.strptime(c, '%Y%m%d') for c in columns]"
   ]
  },
  {
   "cell_type": "code",
   "execution_count": null,
   "id": "f74abf6e",
   "metadata": {},
   "outputs": [],
   "source": [
    "import plotly.graph_objects as go\n",
    "\n",
    "fig = go.Figure()\n",
    "for country in countries:\n",
    "    fig.add_scatter(x=columns,\n",
    "                    y=df.loc[country],\n",
    "                    mode = 'lines',\n",
    "                    name=country)\n",
    "\n",
    "fig.show()"
   ]
  },
  {
   "cell_type": "code",
   "execution_count": null,
   "id": "4f1ffb15",
   "metadata": {},
   "outputs": [],
   "source": [
    "df_ratio = df.apply(lambda x:x / df['20191213']) * 100\n",
    "\n",
    "fig = go.Figure()\n",
    "for country in countries:\n",
    "    fig.add_scatter(x=columns,\n",
    "                    y=df_ratio.loc[country],\n",
    "                    mode = 'lines',\n",
    "                    name=country)\n",
    "\n",
    "fig.show()"
   ]
  },
  {
   "cell_type": "code",
   "execution_count": null,
   "id": "3695a1a4",
   "metadata": {},
   "outputs": [],
   "source": [
    "showings_reader.client.close()"
   ]
  }
 ],
 "metadata": {
  "kernelspec": {
   "display_name": "Python 3 (ipykernel)",
   "language": "python",
   "name": "python3"
  },
  "language_info": {
   "codemirror_mode": {
    "name": "ipython",
    "version": 3
   },
   "file_extension": ".py",
   "mimetype": "text/x-python",
   "name": "python",
   "nbconvert_exporter": "python",
   "pygments_lexer": "ipython3",
   "version": "3.8.10"
  }
 },
 "nbformat": 4,
 "nbformat_minor": 5
}
